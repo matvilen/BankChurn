{
 "cells": [
  {
   "cell_type": "code",
   "execution_count": 1,
   "id": "72c89516",
   "metadata": {},
   "outputs": [],
   "source": [
    "import pandas as pd\n",
    "import numpy as np\n",
    "import category_encoders as ce\n",
    "import tensorflow as tf\n",
    "import pickle\n",
    "\n",
    "from sklearn.preprocessing import StandardScaler\n",
    "from sklearn.model_selection import train_test_split, GridSearchCV\n",
    "from sklearn.linear_model import LogisticRegression\n",
    "from sklearn.metrics import roc_auc_score, accuracy_score, log_loss, brier_score_loss, roc_curve\n",
    "from sklearn.calibration import calibration_curve\n",
    "from sklearn.impute import KNNImputer\n",
    "\n",
    "from keras.layers import Dense, Flatten\n",
    "from keras import Sequential\n",
    "from keras.models import Sequential\n",
    "from keras.optimizers import Adam, SGD\n",
    "from keras.models import load_model\n",
    "from keras.utils import to_categorical\n",
    "from keras import metrics\n",
    "\n",
    "from category_encoders import TargetEncoder\n",
    "from lightgbm import LGBMClassifier, plot_importance\n",
    "from xgboost import XGBClassifier, XGBRFClassifier\n",
    "\n",
    "import os\n",
    "import warnings\n",
    "warnings.filterwarnings('ignore')\n",
    "\n",
    "# mlflow.sklearn.autolog()\n",
    "# import mlflow"
   ]
  },
  {
   "cell_type": "markdown",
   "id": "69a79d33",
   "metadata": {},
   "source": [
    "## Выделение выборок"
   ]
  },
  {
   "cell_type": "code",
   "execution_count": 2,
   "id": "7099e9f9",
   "metadata": {},
   "outputs": [],
   "source": [
    "# Загрузка данных\n",
    "\n",
    "df_train = pd.read_csv('data/train_data_processed.csv')\n",
    "df_test = pd.read_csv('data/test_data_processed.csv')"
   ]
  },
  {
   "cell_type": "code",
   "execution_count": 3,
   "id": "13a620ad",
   "metadata": {},
   "outputs": [],
   "source": [
    "# Выделение выборки валидации из тренировочной части\n",
    "\n",
    "df_train, df_valid = train_test_split(df_train, test_size=0.2, random_state=42)"
   ]
  },
  {
   "cell_type": "code",
   "execution_count": 4,
   "id": "d9322bb4",
   "metadata": {},
   "outputs": [],
   "source": [
    "# Сохраним валидационный датасет\n",
    "\n",
    "df_valid.to_csv('data/valid_data_processed.csv')"
   ]
  },
  {
   "cell_type": "code",
   "execution_count": 5,
   "id": "2b3621c8",
   "metadata": {},
   "outputs": [],
   "source": [
    "feature_columns = [\n",
    "    'Client_age', 'Gender', 'Numb_of_Prod', 'Salary',\n",
    "    'HasCrCard', 'Numb_of_years', 'CreditScore', 'Balance', 'IsActiveMember',\n",
    "]\n",
    "target_col = 'res'"
   ]
  },
  {
   "cell_type": "markdown",
   "id": "66d59b56",
   "metadata": {},
   "source": [
    "### Параметры моделей"
   ]
  },
  {
   "cell_type": "markdown",
   "id": "f623e848",
   "metadata": {},
   "source": [
    "___Параметры для поиска оптимальной комбинации значений при обучении модели___"
   ]
  },
  {
   "cell_type": "code",
   "execution_count": 6,
   "id": "11977caa",
   "metadata": {},
   "outputs": [],
   "source": [
    "params_xgb = {\n",
    "    'n_estimators': np.arange(1, 100, 25),\n",
    "    'max_depth': np.arange(1, 10, 3),\n",
    "    'max_leaves': np.arange(0, 20, 3),\n",
    "    # 'grow_policy': [0, 1],\n",
    "    'learning_rate': np.arange(0.1, 1, 0.3),\n",
    "    # 'booster': ['gbtree', 'gblinear', 'dart'],\n",
    "    # 'subsample': np.arange(0.6, 0.8, 0.1),\n",
    "    # 'colsample_bytree': np.arange(0.6, 0.8, 0.1),\n",
    "    # 'colsample_bylevel': np.arange(0.6, 0.8, 0.1),\n",
    "    # 'colsample_bynode': np.arange(0.6, 0.8, 0.1),\n",
    "    'reg_alpha': np.arange(0, 1, 0.5),\n",
    "    'reg_lambda': np.arange(0, 1, 0.5),\n",
    "}\n",
    "\n",
    "params_lgb = {\n",
    "    'n_estimators': np.arange(1, 100, 25),\n",
    "    'max_depth': np.arange(1, 10, 3),\n",
    "    'num_leaves': np.arange(0, 20, 3),\n",
    "    'learning_rate': np.arange(0.1, 1, 0.3),\n",
    "    # 'boosting_type': ['gbdt', 'goss', 'dart'],\n",
    "    # 'subsample': np.arange(0.6, 0.8, 0.1),\n",
    "    # 'colsample_bytree': np.arange(0.6, 0.8, 0.1),\n",
    "    'reg_alpha': np.arange(0, 1, 0.5),\n",
    "    'reg_lambda': np.arange(0, 1, 0.5),\n",
    "}\n",
    "\n",
    "params_rf = {\n",
    "    'n_estimators': np.arange(1, 100, 50),\n",
    "    'max_leaves': np.arange(0, 20, 10),\n",
    "    'learning_rate': np.arange(0.1, 1, 0.3),\n",
    "    'reg_alpha': np.arange(0, 1, 0.5),\n",
    "    'reg_lambda': np.arange(0, 1, 0.5),\n",
    "}\n",
    "\n",
    "params_log = {\n",
    "    'l1_ratio': np.arange(0, 1, 0.2),\n",
    "    'C': np.arange(0.001, 0.01, 0.001),\n",
    "}"
   ]
  },
  {
   "cell_type": "markdown",
   "id": "075c6068",
   "metadata": {},
   "source": [
    "___Описание моделей___"
   ]
  },
  {
   "cell_type": "code",
   "execution_count": 7,
   "id": "b35fab50",
   "metadata": {},
   "outputs": [],
   "source": [
    "# Создание моделей\n",
    "# Поиск наилучших параметров будет осуществляться на основе ранее заданных словарей\n",
    "# Оценка производится по метрике ROC AUC, используя кросс-валидацию с 4 фолдами \n",
    "# Результаты и процесс обучения выводятся в консоль благодаря параметру verbose=2\n",
    "\n",
    "\n",
    "model_xgb = GridSearchCV(\n",
    "    XGBClassifier(\n",
    "        n_jobs=-1,\n",
    "        random_state=42,\n",
    "        eval_metric=roc_auc_score,\n",
    "        early_stopping_rounds=5,\n",
    "        colsample_bytree=0.8,\n",
    "        colsample_bylevel=0.8,\n",
    "        colsample_bynode=0.8,\n",
    "        subsample=0.8,\n",
    "    ),\n",
    "    param_grid=params_xgb,\n",
    "    scoring='roc_auc',\n",
    "    cv=4,\n",
    "    verbose=2,\n",
    ")\n",
    "\n",
    "model_lgb = GridSearchCV(\n",
    "    LGBMClassifier(\n",
    "        n_jobs=-1,\n",
    "        random_state=42,\n",
    "        subsample=0.8,\n",
    "        colsample_bytree=0.8,\n",
    "    ),\n",
    "    param_grid=params_lgb,\n",
    "    scoring='roc_auc',\n",
    "    cv=4,\n",
    "    verbose=2,\n",
    ")\n",
    "\n",
    "model_rf = GridSearchCV(\n",
    "    XGBRFClassifier(\n",
    "        n_jobs=-1,\n",
    "        random_state=42,\n",
    "        eval_metric=roc_auc_score,\n",
    "        colsample_bytree=0.8,\n",
    "        colsample_bylevel=0.8,\n",
    "        colsample_bynode=0.8,\n",
    "        subsample=0.8,\n",
    "        max_depth=8\n",
    "    ),\n",
    "    param_grid=params_rf,\n",
    "    scoring='roc_auc',\n",
    "    cv=4,\n",
    "    verbose=2,\n",
    ")\n",
    "\n",
    "model_log = GridSearchCV(\n",
    "    LogisticRegression(\n",
    "        penalty='elasticnet',\n",
    "        max_iter=300,\n",
    "        solver='saga',\n",
    "    ),\n",
    "    param_grid=params_log,\n",
    "    scoring='roc_auc',\n",
    "    cv=4,\n",
    "    verbose=2,\n",
    ")"
   ]
  },
  {
   "cell_type": "markdown",
   "id": "6695b4a1",
   "metadata": {},
   "source": [
    "### Обучение и сохранение моделей"
   ]
  },
  {
   "cell_type": "markdown",
   "id": "64506a6b",
   "metadata": {},
   "source": [
    "___Обучение моделей___"
   ]
  },
  {
   "cell_type": "code",
   "execution_count": 8,
   "id": "c4c4e21f",
   "metadata": {},
   "outputs": [
    {
     "data": {
      "text/plain": [
       "'model_xgb.fit(\\n    X=df_train[feature_columns],\\n    y=df_train[target_col],\\n    eval_set=[(df_valid[feature_columns], df_valid[target_col])],\\n)'"
      ]
     },
     "execution_count": 8,
     "metadata": {},
     "output_type": "execute_result"
    }
   ],
   "source": [
    "# Обучение XGB бустинга\n",
    "\"\"\"model_xgb.fit(\n",
    "    X=df_train[feature_columns],\n",
    "    y=df_train[target_col],\n",
    "    eval_set=[(df_valid[feature_columns], df_valid[target_col])],\n",
    ")\"\"\""
   ]
  },
  {
   "cell_type": "code",
   "execution_count": null,
   "id": "c07877f1",
   "metadata": {},
   "outputs": [],
   "source": []
  }
 ],
 "metadata": {
  "kernelspec": {
   "display_name": "Python 3 (ipykernel)",
   "language": "python",
   "name": "python3"
  },
  "language_info": {
   "codemirror_mode": {
    "name": "ipython",
    "version": 3
   },
   "file_extension": ".py",
   "mimetype": "text/x-python",
   "name": "python",
   "nbconvert_exporter": "python",
   "pygments_lexer": "ipython3",
   "version": "3.11.5"
  }
 },
 "nbformat": 4,
 "nbformat_minor": 5
}
